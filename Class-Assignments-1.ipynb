{
 "cells": [
  {
   "cell_type": "code",
   "execution_count": 2,
   "id": "6820f4b8-74ca-463b-a635-cfccc3674c44",
   "metadata": {},
   "outputs": [],
   "source": [
    "from createClass import subfieldsInAI"
   ]
  },
  {
   "cell_type": "code",
   "execution_count": 3,
   "id": "d05b75e9-23b7-4cd9-a647-012251f543c2",
   "metadata": {},
   "outputs": [
    {
     "name": "stdout",
     "output_type": "stream",
     "text": [
      "Sub-fields in AI are:\n",
      "Machine Learning\n",
      "Neural Networks\n",
      "Vision\n",
      "Robotics\n",
      "Speech Processing\n",
      "Natural Language Processing\n"
     ]
    }
   ],
   "source": [
    "subfieldsInAI.subfields()"
   ]
  },
  {
   "cell_type": "code",
   "execution_count": 4,
   "id": "8d6bf3b5-5645-415d-aaf4-92f8e483a410",
   "metadata": {},
   "outputs": [
    {
     "name": "stdin",
     "output_type": "stream",
     "text": [
      "Your Gender (Male/Female):  Male\n",
      "Your Age:  32\n"
     ]
    },
    {
     "name": "stdout",
     "output_type": "stream",
     "text": [
      "ELIGIBLE\n"
     ]
    }
   ],
   "source": [
    "subfieldsInAI.marriage_eligibility()"
   ]
  },
  {
   "cell_type": "code",
   "execution_count": 5,
   "id": "0af221a8-9b31-425c-9597-e4e115aadb48",
   "metadata": {},
   "outputs": [
    {
     "name": "stdin",
     "output_type": "stream",
     "text": [
      "Enter a number:  45657\n"
     ]
    },
    {
     "name": "stdout",
     "output_type": "stream",
     "text": [
      "45657 is odd number\n"
     ]
    }
   ],
   "source": [
    "subfieldsInAI.oddEven()"
   ]
  },
  {
   "cell_type": "code",
   "execution_count": 6,
   "id": "42bb57eb-1271-46f4-85a6-85367f5ea643",
   "metadata": {},
   "outputs": [
    {
     "name": "stdin",
     "output_type": "stream",
     "text": [
      "Subject 1:  54\n",
      "Subject 2:  76\n",
      "Subject 3:  82\n",
      "Subject 4:  43\n",
      "Subject 5:  87\n"
     ]
    },
    {
     "name": "stdout",
     "output_type": "stream",
     "text": [
      "Total : 342\n",
      "Percentage : 68.4\n"
     ]
    }
   ],
   "source": [
    "subfieldsInAI.calculate_percentage()"
   ]
  },
  {
   "cell_type": "code",
   "execution_count": 7,
   "id": "af301288-22af-43d1-9f91-83d8fd98168d",
   "metadata": {},
   "outputs": [
    {
     "name": "stdin",
     "output_type": "stream",
     "text": [
      "Height:  32\n",
      "Breadth:  34\n"
     ]
    },
    {
     "name": "stdout",
     "output_type": "stream",
     "text": [
      "Area formula: (Height*Breadth)/2\n",
      "Area of Triangle: 544.0\n"
     ]
    },
    {
     "name": "stdin",
     "output_type": "stream",
     "text": [
      "Height1:  2\n",
      "Height2:  4\n",
      "Breadth:  4\n"
     ]
    },
    {
     "name": "stdout",
     "output_type": "stream",
     "text": [
      "Perimeter formula: Height1+Height2+Breadth\n",
      "Perimeter of Triangle: 10\n"
     ]
    }
   ],
   "source": [
    "subfieldsInAI.triangle_calculations()"
   ]
  },
  {
   "cell_type": "code",
   "execution_count": null,
   "id": "1189fe93-3b91-4e77-8b65-ab2a2ea1b64b",
   "metadata": {},
   "outputs": [],
   "source": []
  }
 ],
 "metadata": {
  "kernelspec": {
   "display_name": "Python [conda env:base] *",
   "language": "python",
   "name": "conda-base-py"
  },
  "language_info": {
   "codemirror_mode": {
    "name": "ipython",
    "version": 3
   },
   "file_extension": ".py",
   "mimetype": "text/x-python",
   "name": "python",
   "nbconvert_exporter": "python",
   "pygments_lexer": "ipython3",
   "version": "3.13.5"
  }
 },
 "nbformat": 4,
 "nbformat_minor": 5
}
