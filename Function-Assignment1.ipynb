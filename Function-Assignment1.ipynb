{
 "cells": [
  {
   "cell_type": "code",
   "execution_count": null,
   "id": "e631caa0-e5c9-4661-84ee-69d3f246d3c2",
   "metadata": {},
   "outputs": [],
   "source": [
    "# Create function"
   ]
  },
  {
   "cell_type": "code",
   "execution_count": 29,
   "id": "d5ac3de4-982a-43b8-8739-a6857352be76",
   "metadata": {},
   "outputs": [],
   "source": [
    "def subfields():\n",
    "    print(\"Sub-fields in AI are:\")\n",
    "    print(\"Machine Learning\")\n",
    "    print(\"Neural Networks\")\n",
    "    print(\"Vision\")\n",
    "    print(\"Robotics\")\n",
    "    print(\"Speech Processing\")\n",
    "    print(\"Natural Language Processing\")"
   ]
  },
  {
   "cell_type": "code",
   "execution_count": 30,
   "id": "a92d47e6-7542-4e4c-a203-4a4b8e035230",
   "metadata": {},
   "outputs": [
    {
     "name": "stdout",
     "output_type": "stream",
     "text": [
      "Sub-fields in AI are:\n",
      "Machine Learning\n",
      "Neural Networks\n",
      "Vision\n",
      "Robotics\n",
      "Speech Processing\n",
      "Natural Language Processing\n"
     ]
    }
   ],
   "source": [
    "subfields()"
   ]
  },
  {
   "cell_type": "code",
   "execution_count": null,
   "id": "c5d08f57-011a-4a96-b3d0-47f9433e62c6",
   "metadata": {},
   "outputs": [],
   "source": [
    "# Create a function that checks whether the given number is Odd or Even"
   ]
  },
  {
   "cell_type": "code",
   "execution_count": 32,
   "id": "6796278a-3144-4161-a7dd-db3438234b14",
   "metadata": {},
   "outputs": [],
   "source": [
    "def oddEven():\n",
    "    num=int(input(\"Enter a number: \"))\n",
    "    if((num%2)==1):\n",
    "        print(f\"{num} is odd number\")\n",
    "    else:\n",
    "        print(f\"{num} is Even number\")\n",
    "        return message"
   ]
  },
  {
   "cell_type": "code",
   "execution_count": 35,
   "id": "591a2195-6677-4a2a-913c-361a79de0f36",
   "metadata": {},
   "outputs": [
    {
     "name": "stdin",
     "output_type": "stream",
     "text": [
      "Enter the number:  12\n"
     ]
    },
    {
     "name": "stdout",
     "output_type": "stream",
     "text": [
      "12 is Even number\n"
     ]
    }
   ],
   "source": [
    "checkNumber=oddEven()"
   ]
  },
  {
   "cell_type": "code",
   "execution_count": null,
   "id": "dce2b707-7f2d-4b65-b3a1-7974205ab4cc",
   "metadata": {},
   "outputs": [],
   "source": [
    "# age limit like 21 for male and 18 for female"
   ]
  },
  {
   "cell_type": "code",
   "execution_count": 40,
   "id": "a27479f0-2e7c-4035-9e7d-81aef9708eee",
   "metadata": {},
   "outputs": [],
   "source": [
    "def marriage_eligibility():\n",
    "    gender = input(\"Your Gender (Male/Female): \")\n",
    "    age = int(input(\"Your Age: \"))\n",
    "\n",
    "    if (gender == \"Male\"):\n",
    "        if (age >= 21):\n",
    "            print(\"ELIGIBLE\")\n",
    "        else:\n",
    "            print(\"NOT ELIGIBLE\")\n",
    "    elif (gender == \"Female\"):\n",
    "        if (age >= 18):\n",
    "            print(\"ELIGIBLE\")\n",
    "        else:\n",
    "            print(\"NOT ELIGIBLE\")\n",
    "    else:\n",
    "        print(\"Invalid gender entered\")\n"
   ]
  },
  {
   "cell_type": "code",
   "execution_count": 42,
   "id": "fb87e429-0d54-40c0-aa5f-a1457807417f",
   "metadata": {},
   "outputs": [
    {
     "name": "stdin",
     "output_type": "stream",
     "text": [
      "Your Gender (Male/Female):  Male\n",
      "Your Age:  20\n"
     ]
    },
    {
     "name": "stdout",
     "output_type": "stream",
     "text": [
      "NOT ELIGIBLE\n"
     ]
    }
   ],
   "source": [
    "marriage_eligibility()"
   ]
  },
  {
   "cell_type": "code",
   "execution_count": null,
   "id": "3f3ff81f-90da-420a-925f-7b69dbadd4b4",
   "metadata": {},
   "outputs": [],
   "source": [
    " # calculate the percentage of your 10th mark"
   ]
  },
  {
   "cell_type": "code",
   "execution_count": 51,
   "id": "a59dd341-758c-4733-bdb3-df2e81824a1b",
   "metadata": {},
   "outputs": [],
   "source": [
    "def calculate_percentage():\n",
    "    Subject1 = int(input(\"Subject 1: \"))\n",
    "    Subject2 = int(input(\"Subject 2: \"))\n",
    "    Subject3 = int(input(\"Subject 3: \"))\n",
    "    Subject4 = int(input(\"Subject 4: \"))\n",
    "    Subject5 = int(input(\"Subject 5: \"))\n",
    "\n",
    "    Total = Subject1 + Subject2 + Subject3 + Subject4 + Subject5\n",
    "    Percentage = (Total / 500) * 100\n",
    "\n",
    "    print(\"Total :\", Total)\n",
    "    print(\"Percentage :\", Percentage)"
   ]
  },
  {
   "cell_type": "code",
   "execution_count": 52,
   "id": "d4f0d253-71df-4e9f-8852-50b7d23e49e9",
   "metadata": {},
   "outputs": [
    {
     "name": "stdin",
     "output_type": "stream",
     "text": [
      "Subject 1:  98\n",
      "Subject 2:  87\n",
      "Subject 3:  95\n",
      "Subject 4:  95\n",
      "Subject 5:  93\n"
     ]
    },
    {
     "name": "stdout",
     "output_type": "stream",
     "text": [
      "Total : 468\n",
      "Percentage : 93.60000000000001\n"
     ]
    }
   ],
   "source": [
    "calculate_percentage()"
   ]
  },
  {
   "cell_type": "code",
   "execution_count": null,
   "id": "22ed1dd6-8981-4b05-b517-a29b0612a04d",
   "metadata": {},
   "outputs": [],
   "source": [
    "#print area and perimeter of triangle"
   ]
  },
  {
   "cell_type": "code",
   "execution_count": 54,
   "id": "4676dfb1-8039-4c88-932e-8872ae158a65",
   "metadata": {},
   "outputs": [],
   "source": [
    "def triangle_calculations():\n",
    "    Height = int(input(\"Height: \"))\n",
    "    Breadth = int(input(\"Breadth: \"))\n",
    "    Area = (Height * Breadth) / 2\n",
    "    print(\"Area formula: (Height*Breadth)/2\")\n",
    "    print(\"Area of Triangle:\", Area)\n",
    "\n",
    "    Height1 = int(input(\"Height1: \"))\n",
    "    Height2 = int(input(\"Height2: \"))\n",
    "    Breadth = int(input(\"Breadth: \"))\n",
    "    Perimeter = Height1 + Height2 + Breadth\n",
    "    print(\"Perimeter formula: Height1+Height2+Breadth\")\n",
    "    print(\"Perimeter of Triangle:\", Perimeter)"
   ]
  },
  {
   "cell_type": "code",
   "execution_count": 55,
   "id": "a5101ba9-475a-488b-b9d9-86fd99b9fe84",
   "metadata": {},
   "outputs": [
    {
     "name": "stdin",
     "output_type": "stream",
     "text": [
      "Height:  32\n",
      "Breadth:  34\n"
     ]
    },
    {
     "name": "stdout",
     "output_type": "stream",
     "text": [
      "Area formula: (Height*Breadth)/2\n",
      "Area of Triangle: 544.0\n"
     ]
    },
    {
     "name": "stdin",
     "output_type": "stream",
     "text": [
      "Height1:  2\n",
      "Height2:  2\n",
      "Breadth:  4\n"
     ]
    },
    {
     "name": "stdout",
     "output_type": "stream",
     "text": [
      "Perimeter formula: Height1+Height2+Breadth\n",
      "Perimeter of Triangle: 8\n"
     ]
    }
   ],
   "source": [
    "triangle_calculations()"
   ]
  },
  {
   "cell_type": "code",
   "execution_count": null,
   "id": "cf8e8c1e-f31b-42bf-aa8b-b9261b3fd472",
   "metadata": {},
   "outputs": [],
   "source": []
  }
 ],
 "metadata": {
  "kernelspec": {
   "display_name": "Python [conda env:base] *",
   "language": "python",
   "name": "conda-base-py"
  },
  "language_info": {
   "codemirror_mode": {
    "name": "ipython",
    "version": 3
   },
   "file_extension": ".py",
   "mimetype": "text/x-python",
   "name": "python",
   "nbconvert_exporter": "python",
   "pygments_lexer": "ipython3",
   "version": "3.13.5"
  }
 },
 "nbformat": 4,
 "nbformat_minor": 5
}
