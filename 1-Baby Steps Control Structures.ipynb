{
 "cells": [
  {
   "cell_type": "code",
   "execution_count": 1,
   "id": "610b325b-ac9e-40d3-89fa-4996ed90c2f9",
   "metadata": {},
   "outputs": [
    {
     "name": "stdout",
     "output_type": "stream",
     "text": [
      "Welcome to Assignment-1\n"
     ]
    }
   ],
   "source": [
    "print(\"Welcome to Assignment-1\")"
   ]
  },
  {
   "cell_type": "code",
   "execution_count": 7,
   "id": "5a0ea86b-ae8f-4bd5-852a-6f28a1f84c6f",
   "metadata": {},
   "outputs": [
    {
     "name": "stdin",
     "output_type": "stream",
     "text": [
      "Num1=  10\n",
      "Num2=  20\n"
     ]
    },
    {
     "name": "stdout",
     "output_type": "stream",
     "text": [
      "Add= 30\n"
     ]
    }
   ],
   "source": [
    "Num1=int(input(\"Num1= \"))\n",
    "Num2=int(input(\"Num2= \"))\n",
    "Add = Num1+Num2\n",
    "print(\"Add=\", Add)"
   ]
  },
  {
   "cell_type": "code",
   "execution_count": 10,
   "id": "996b801c-5eb6-4ae7-a1bc-f7028f9e5afb",
   "metadata": {},
   "outputs": [
    {
     "name": "stdin",
     "output_type": "stream",
     "text": [
      "Enter the BMI Index:  34\n"
     ]
    },
    {
     "name": "stdout",
     "output_type": "stream",
     "text": [
      "Very Overweight\n"
     ]
    }
   ],
   "source": [
    "bmi= int(input(\"Enter the BMI Index: \"))\n",
    "if bmi < 18.5:\n",
    "    print('Under weight')\n",
    "if bmi>=18.5 and bmi <25:\n",
    "    print(\"Normal\")\n",
    "if bmi >= 25 and bmi < 30:\n",
    "   print('Over weight')\n",
    "if bmi >= 30:\n",
    "   print('Very Overweight')\n",
    "                 \n",
    "                 "
   ]
  },
  {
   "cell_type": "code",
   "execution_count": null,
   "id": "dcc21798-abb4-45fa-b3c5-2634d75fc8a0",
   "metadata": {},
   "outputs": [],
   "source": []
  }
 ],
 "metadata": {
  "kernelspec": {
   "display_name": "Python [conda env:base] *",
   "language": "python",
   "name": "conda-base-py"
  },
  "language_info": {
   "codemirror_mode": {
    "name": "ipython",
    "version": 3
   },
   "file_extension": ".py",
   "mimetype": "text/x-python",
   "name": "python",
   "nbconvert_exporter": "python",
   "pygments_lexer": "ipython3",
   "version": "3.13.5"
  }
 },
 "nbformat": 4,
 "nbformat_minor": 5
}
