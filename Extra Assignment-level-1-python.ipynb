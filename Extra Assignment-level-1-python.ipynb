{
 "cells": [
  {
   "cell_type": "markdown",
   "id": "24c13c04-8baf-42ba-ad99-53818b46b905",
   "metadata": {},
   "source": [
    "print Statement"
   ]
  },
  {
   "cell_type": "code",
   "execution_count": 1,
   "id": "10c66387-1801-4025-9332-b36df1c040ce",
   "metadata": {},
   "outputs": [
    {
     "name": "stdout",
     "output_type": "stream",
     "text": [
      "HOPE AI\n"
     ]
    }
   ],
   "source": [
    "print(\"HOPE AI\")"
   ]
  },
  {
   "cell_type": "markdown",
   "id": "3832dcf8-4ddd-4f97-9cfa-be4f5fece4ab",
   "metadata": {},
   "source": [
    "Buy inputs"
   ]
  },
  {
   "cell_type": "code",
   "execution_count": 5,
   "id": "f42c2955-6386-476f-8f4c-a0ca7c243e5d",
   "metadata": {},
   "outputs": [
    {
     "name": "stdin",
     "output_type": "stream",
     "text": [
      "Enter your institute name? :  Hope AI\n"
     ]
    },
    {
     "name": "stdout",
     "output_type": "stream",
     "text": [
      "Hope AI\n"
     ]
    }
   ],
   "source": [
    "print(input(\"Enter your institute name? : \"))"
   ]
  },
  {
   "cell_type": "code",
   "execution_count": 9,
   "id": "28cf93e9-10ef-44f6-981e-6b60d80c7b50",
   "metadata": {},
   "outputs": [
    {
     "name": "stdin",
     "output_type": "stream",
     "text": [
      "Enter your name:  mani\n",
      "Enter your age:  10\n",
      "Enter your school name:  school\n",
      "Enter your degree:  BE ece\n"
     ]
    },
    {
     "name": "stdout",
     "output_type": "stream",
     "text": [
      "Enter your name: mani\n",
      "Enter your age: 10\n",
      "Enter your school name: school\n",
      "Enter your degree: BE ece\n"
     ]
    }
   ],
   "source": [
    "name = input(\"Enter your name: \")\n",
    "age = input(\"Enter your age: \")\n",
    "school = input(\"Enter your school name: \")\n",
    "degree = input(\"Enter your degree: \")\n",
    "\n",
    "print(f\"Enter your name: {name}\")\n",
    "print(f\"Enter your age: {age}\")\n",
    "print(f\"Enter your school name: {school}\")\n",
    "print(f\"Enter your degree: {degree}\")\n"
   ]
  },
  {
   "cell_type": "markdown",
   "id": "11e2a173-da3f-4344-901e-58f5d99ebd6c",
   "metadata": {},
   "source": [
    "Addition"
   ]
  },
  {
   "cell_type": "code",
   "execution_count": 16,
   "id": "eeca64e1-06d2-4bfe-8236-2e9434522cf7",
   "metadata": {},
   "outputs": [
    {
     "name": "stdin",
     "output_type": "stream",
     "text": [
      "a=  43\n",
      "b=  34\n"
     ]
    },
    {
     "name": "stdout",
     "output_type": "stream",
     "text": [
      "Add= 77\n"
     ]
    }
   ],
   "source": [
    "a=int(input(\"a= \"))\n",
    "b=int(input(\"b= \"))\n",
    "print(\"Add=\", a+b)"
   ]
  },
  {
   "cell_type": "code",
   "execution_count": 12,
   "id": "6b105175-6495-4825-b311-c5d5b3bea535",
   "metadata": {},
   "outputs": [
    {
     "name": "stdin",
     "output_type": "stream",
     "text": [
      "a=  43\n",
      "b=  34\n"
     ]
    },
    {
     "name": "stdout",
     "output_type": "stream",
     "text": [
      "Sub= 9\n"
     ]
    }
   ],
   "source": [
    "a=int(input(\"a= \"))\n",
    "b=int(input(\"b= \"))\n",
    "print(\"Sub=\", a-b)"
   ]
  },
  {
   "cell_type": "code",
   "execution_count": 14,
   "id": "072881a9-1a0c-439a-8a0c-9cfc977b92c1",
   "metadata": {},
   "outputs": [
    {
     "name": "stdin",
     "output_type": "stream",
     "text": [
      "a=  63\n",
      "b=  97\n"
     ]
    },
    {
     "name": "stdout",
     "output_type": "stream",
     "text": [
      "Mul= 6111\n"
     ]
    }
   ],
   "source": [
    "a=int(input(\"a= \"))\n",
    "b=int(input(\"b= \"))\n",
    "print(\"Mul=\", a*b)"
   ]
  },
  {
   "cell_type": "code",
   "execution_count": 15,
   "id": "10fdef2f-d5c9-4ec3-87d8-f7571cfa02f1",
   "metadata": {},
   "outputs": [
    {
     "name": "stdin",
     "output_type": "stream",
     "text": [
      "a=  76\n",
      "b=  31\n"
     ]
    },
    {
     "name": "stdout",
     "output_type": "stream",
     "text": [
      "Float Div= 2.4516129032258065\n"
     ]
    }
   ],
   "source": [
    "a=int(input(\"a= \"))\n",
    "b=int(input(\"b= \"))\n",
    "print(\"Float Div=\", a/b)"
   ]
  },
  {
   "cell_type": "code",
   "execution_count": 17,
   "id": "2c0a23cc-eab9-4db6-a755-b621a5c2a1bb",
   "metadata": {},
   "outputs": [
    {
     "name": "stdin",
     "output_type": "stream",
     "text": [
      "a=  76\n",
      "b=  31\n"
     ]
    },
    {
     "name": "stdout",
     "output_type": "stream",
     "text": [
      "Floor Div= 2\n"
     ]
    }
   ],
   "source": [
    "a=int(input(\"a= \"))\n",
    "b=int(input(\"b= \"))\n",
    "print(\"Floor Div=\", a//b)"
   ]
  },
  {
   "cell_type": "code",
   "execution_count": 18,
   "id": "7554ee67-95ad-44d8-8db8-0e0eec2ffb66",
   "metadata": {},
   "outputs": [
    {
     "name": "stdin",
     "output_type": "stream",
     "text": [
      "a=  76\n",
      "b=  31\n"
     ]
    },
    {
     "name": "stdout",
     "output_type": "stream",
     "text": [
      "Modulo= 14\n"
     ]
    }
   ],
   "source": [
    "a=int(input(\"a= \"))\n",
    "b=int(input(\"b= \"))\n",
    "print(\"Modulo=\", a%b)"
   ]
  },
  {
   "cell_type": "code",
   "execution_count": 19,
   "id": "c2e6b5b7-66b5-4201-8d94-49921a3d8265",
   "metadata": {},
   "outputs": [
    {
     "name": "stdin",
     "output_type": "stream",
     "text": [
      "a=  4\n",
      "b=  4\n"
     ]
    },
    {
     "name": "stdout",
     "output_type": "stream",
     "text": [
      "Modulo= 256\n"
     ]
    }
   ],
   "source": [
    "a=int(input(\"a= \"))\n",
    "b=int(input(\"b= \"))\n",
    "print(\"Modulo=\", a**b)"
   ]
  },
  {
   "cell_type": "code",
   "execution_count": null,
   "id": "95e45b2f-18cc-4fe7-b1c1-950e1a9265fa",
   "metadata": {},
   "outputs": [],
   "source": []
  }
 ],
 "metadata": {
  "kernelspec": {
   "display_name": "Python [conda env:base] *",
   "language": "python",
   "name": "conda-base-py"
  },
  "language_info": {
   "codemirror_mode": {
    "name": "ipython",
    "version": 3
   },
   "file_extension": ".py",
   "mimetype": "text/x-python",
   "name": "python",
   "nbconvert_exporter": "python",
   "pygments_lexer": "ipython3",
   "version": "3.13.5"
  }
 },
 "nbformat": 4,
 "nbformat_minor": 5
}
