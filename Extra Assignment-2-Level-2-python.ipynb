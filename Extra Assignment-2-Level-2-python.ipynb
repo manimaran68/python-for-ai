{
 "cells": [
  {
   "cell_type": "code",
   "execution_count": null,
   "id": "e67c0513-3de9-4030-a258-db5353a82ee2",
   "metadata": {},
   "outputs": [],
   "source": [
    "# print 0 to 20 by using range"
   ]
  },
  {
   "cell_type": "code",
   "execution_count": 1,
   "id": "8d0646dc-2da3-4c24-b423-40a58b26ab08",
   "metadata": {},
   "outputs": [
    {
     "name": "stdout",
     "output_type": "stream",
     "text": [
      "0\n",
      "1\n",
      "2\n",
      "3\n",
      "4\n",
      "5\n",
      "6\n",
      "7\n",
      "8\n",
      "9\n",
      "10\n",
      "11\n",
      "12\n",
      "13\n",
      "14\n",
      "15\n",
      "16\n",
      "17\n",
      "18\n",
      "19\n"
     ]
    }
   ],
   "source": [
    "for number in range(0,20):\n",
    "    print(number)"
   ]
  },
  {
   "cell_type": "code",
   "execution_count": null,
   "id": "2aeaa4f8-ca74-49fc-bfdb-cbb6e4ee9dff",
   "metadata": {},
   "outputs": [],
   "source": [
    "# print range 10 to 20"
   ]
  },
  {
   "cell_type": "code",
   "execution_count": 3,
   "id": "9496b377-f100-4dd0-962e-8105b12201fe",
   "metadata": {},
   "outputs": [
    {
     "name": "stdout",
     "output_type": "stream",
     "text": [
      "10 11 12 13 14 15 16 17 18 19 "
     ]
    }
   ],
   "source": [
    "for number in range(10,20):\n",
    "    print(number, end=\" \")"
   ]
  },
  {
   "cell_type": "code",
   "execution_count": null,
   "id": "af4483d5-8b43-40fb-84c8-b41a69939d45",
   "metadata": {},
   "outputs": [],
   "source": [
    "# Print number of items in the list by using 'len'"
   ]
  },
  {
   "cell_type": "code",
   "execution_count": 4,
   "id": "49063064-8ce3-4d78-9cd8-bec5ee762bf2",
   "metadata": {},
   "outputs": [
    {
     "name": "stdout",
     "output_type": "stream",
     "text": [
      "Number of items in the List2: 7\n"
     ]
    }
   ],
   "source": [
    "List2 = [10, 20, 14, 55, 43, 87, 76]\n",
    "print(f\"Number of items in the List2: {len(List2)}\")"
   ]
  },
  {
   "cell_type": "code",
   "execution_count": 6,
   "id": "dfe67a11-9f86-46d6-bbf5-6d715907ed30",
   "metadata": {},
   "outputs": [
    {
     "name": "stdout",
     "output_type": "stream",
     "text": [
      "Artificial Intelligence\n",
      "A\n",
      "r\n",
      "t\n",
      "i\n",
      "f\n",
      "i\n",
      "c\n",
      "i\n",
      "a\n",
      "l\n",
      " \n",
      "I\n",
      "n\n",
      "t\n",
      "e\n",
      "l\n",
      "l\n",
      "i\n",
      "g\n",
      "e\n",
      "n\n",
      "c\n",
      "e\n"
     ]
    }
   ],
   "source": [
    "text = \"Artificial Intelligence\"\n",
    "\n",
    "print(text)\n",
    "\n",
    "for ch in text:\n",
    "    print(ch)\n"
   ]
  },
  {
   "cell_type": "code",
   "execution_count": 7,
   "id": "e94b807a-b2e8-4454-a2e8-9c78d29db129",
   "metadata": {},
   "outputs": [
    {
     "name": "stdout",
     "output_type": "stream",
     "text": [
      "-Your Name-\n",
      "-Your Age-\n",
      "-Your Profession-\n"
     ]
    }
   ],
   "source": [
    "print(\"-Your Name-\")\n",
    "print(\"-Your Age-\")\n",
    "print(\"-Your Profession-\")\n"
   ]
  },
  {
   "cell_type": "code",
   "execution_count": null,
   "id": "2c8e2aaa-2b4b-4e97-a9f8-51a67936dffc",
   "metadata": {},
   "outputs": [],
   "source": [
    "# Print this mixered datatype using Tuples"
   ]
  },
  {
   "cell_type": "code",
   "execution_count": 9,
   "id": "bcc99c8e-a4c0-4d76-ab16-b28ea952ce59",
   "metadata": {},
   "outputs": [
    {
     "name": "stdout",
     "output_type": "stream",
     "text": [
      "(5, 'Welcome', 7, 'Hope')\n"
     ]
    }
   ],
   "source": [
    "tuple = (5, 'Welcome', 7, 'Hope')\n",
    "print(tuple)"
   ]
  },
  {
   "cell_type": "code",
   "execution_count": 12,
   "id": "4539f2f0-621b-444b-8269-a4121ceae358",
   "metadata": {},
   "outputs": [
    {
     "name": "stdout",
     "output_type": "stream",
     "text": [
      "((0, 1, 2, 3), ('python', 'Hope'))\n"
     ]
    }
   ],
   "source": [
    "tuple1 = (0, 1, 2, 3)\n",
    "tuple2 = ('python', 'Hope')\n",
    "tuple3 = (tuple1, tuple2)\n",
    "print(tuple3)"
   ]
  },
  {
   "cell_type": "code",
   "execution_count": null,
   "id": "8c09697f-241f-4f63-97f1-4bc628c70186",
   "metadata": {},
   "outputs": [],
   "source": [
    "# print Odd Numbers in the list"
   ]
  },
  {
   "cell_type": "code",
   "execution_count": 14,
   "id": "e182d557-4445-47ba-96c0-4d486671ec14",
   "metadata": {},
   "outputs": [
    {
     "name": "stdout",
     "output_type": "stream",
     "text": [
      "19 is odd\n",
      "25 is odd\n",
      "1 is odd\n"
     ]
    }
   ],
   "source": [
    "numbers = (20, 10, 16, 19, 25, 1, 276, 188)\n",
    "for number in numbers:\n",
    "    if number % 2 != 0:   \n",
    "        print(f\"{number} is odd\")"
   ]
  },
  {
   "cell_type": "code",
   "execution_count": null,
   "id": "21743eee-570d-46b5-8cc3-2bd131a10af4",
   "metadata": {},
   "outputs": [],
   "source": [
    "# print Even Numbers in the list"
   ]
  },
  {
   "cell_type": "code",
   "execution_count": 15,
   "id": "bde47319-91b5-4644-be65-41dccaacb0b4",
   "metadata": {},
   "outputs": [
    {
     "name": "stdout",
     "output_type": "stream",
     "text": [
      "20 is even\n",
      "10 is even\n",
      "16 is even\n",
      "276 is even\n",
      "188 is even\n"
     ]
    }
   ],
   "source": [
    "numbers = (20, 10, 16, 19, 25, 1, 276, 188)\n",
    "for number in numbers:\n",
    "    if number % 2 == 0:\n",
    "        print(f\"{number} is even\")"
   ]
  },
  {
   "cell_type": "code",
   "execution_count": null,
   "id": "bc531f1c-9566-4309-a913-2b6d19397a2a",
   "metadata": {},
   "outputs": [],
   "source": []
  }
 ],
 "metadata": {
  "kernelspec": {
   "display_name": "Python [conda env:base] *",
   "language": "python",
   "name": "conda-base-py"
  },
  "language_info": {
   "codemirror_mode": {
    "name": "ipython",
    "version": 3
   },
   "file_extension": ".py",
   "mimetype": "text/x-python",
   "name": "python",
   "nbconvert_exporter": "python",
   "pygments_lexer": "ipython3",
   "version": "3.13.5"
  }
 },
 "nbformat": 4,
 "nbformat_minor": 5
}
